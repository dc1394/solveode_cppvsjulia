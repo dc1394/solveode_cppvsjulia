{
 "cells": [
  {
   "cell_type": "code",
   "execution_count": 1,
   "metadata": {},
   "outputs": [
    {
     "name": "stdout",
     "output_type": "stream",
     "text": [
      "  246.250 μs (3432 allocations: 331.61 KiB)\n"
     ]
    },
    {
     "data": {
      "text/plain": [
       "2-element Vector{Float64}:\n",
       "  0.018679168502605478\n",
       " -0.0040335219309484"
      ]
     },
     "execution_count": 1,
     "metadata": {},
     "output_type": "execute_result"
    }
   ],
   "source": [
    "using BenchmarkTools\n",
    "using DifferentialEquations\n",
    "\n",
    "function main()\n",
    "    x1 = 0.00001\n",
    "    xf = 11.0\n",
    "    eps = 1.0E-15\n",
    "    \n",
    "    y1 = [ 0.99998416139571, -1.58175227379914 ]\n",
    "\n",
    "    u0 = [y1[1]; y1[2]]\n",
    "    tspan = (x1, xf)\n",
    "    prob = ODEProblem(equation!, u0, tspan)\n",
    "    sol = solve(prob, abstol = eps, reltol = eps)\n",
    "    y = [sol.u[size(sol.u)[1]][1], sol.u[size(sol.u)[1]][2]]\n",
    "\n",
    "    return y\n",
    "end\n",
    "\n",
    "function equation!(du, u, p, t)\n",
    "    du[1] = u[2]\n",
    "    du[2] = u[1] * sqrt(u[1] / t)\n",
    "end\n",
    "\n",
    "@btime main()"
   ]
  },
  {
   "cell_type": "code",
   "execution_count": null,
   "metadata": {},
   "outputs": [],
   "source": []
  }
 ],
 "metadata": {
  "kernelspec": {
   "display_name": "Julia 1.7.0-DEV",
   "language": "julia",
   "name": "julia-1.7"
  },
  "language_info": {
   "file_extension": ".jl",
   "mimetype": "application/julia",
   "name": "julia",
   "version": "1.7.0"
  }
 },
 "nbformat": 4,
 "nbformat_minor": 4
}
